{
 "cells": [
  {
   "cell_type": "markdown",
   "metadata": {},
   "source": [
    "## Libraries and Imports"
   ]
  },
  {
   "cell_type": "code",
   "execution_count": 1,
   "metadata": {},
   "outputs": [],
   "source": [
    "# Import Libraries\n",
    "import numpy as np\n",
    "import matplotlib.pyplot as plt\n",
    "import pandas as pd\n",
    "import os\n",
    "import shutil\n",
    "\n",
    "# For reproducibility\n",
    "np.random.seed(42)\n",
    "\n",
    "from sklearn.model_selection import train_test_split\n",
    "from sklearn.metrics import confusion_matrix\n",
    "\n",
    "from tensorflow.keras.models import Sequential, load_model\n",
    "from tensorflow.keras.layers import Dense, Dropout, Flatten, Conv2D, MaxPooling2D\n",
    "from tensorflow.keras.optimizers import Adam\n",
    "from tensorflow.keras import utils\n",
    "from tensorflow.keras.preprocessing.image import ImageDataGenerator, load_img, img_to_array\n",
    "from tensorflow.keras.callbacks import EarlyStopping\n",
    "import warnings\n",
    "warnings.filterwarnings('ignore')\n",
    "\n",
    "import h5py\n",
    "\n",
    "%matplotlib inline"
   ]
  },
  {
   "cell_type": "markdown",
   "metadata": {},
   "source": [
    "## Parameters"
   ]
  },
  {
   "cell_type": "code",
   "execution_count": 14,
   "metadata": {},
   "outputs": [],
   "source": [
    "training_dir = '../images/new_model'\n",
    "test_dir     = '../test_images/'\n",
    "image_height = 256\n",
    "image_width  = 256\n",
    "batch_size   = 64\n",
    "num_epochs   = 50"
   ]
  },
  {
   "cell_type": "markdown",
   "metadata": {},
   "source": [
    "## Model Construction"
   ]
  },
  {
   "cell_type": "code",
   "execution_count": 15,
   "metadata": {},
   "outputs": [
    {
     "name": "stdout",
     "output_type": "stream",
     "text": [
      "WARNING:tensorflow:Large dropout rate: 0.8 (>0.5). In TensorFlow 2.x, dropout() uses dropout rate instead of keep_prob. Please ensure that this is intended.\n",
      "WARNING:tensorflow:Large dropout rate: 0.8 (>0.5). In TensorFlow 2.x, dropout() uses dropout rate instead of keep_prob. Please ensure that this is intended.\n"
     ]
    }
   ],
   "source": [
    "# Instantiates model\n",
    "model = Sequential()\n",
    "\n",
    "# First convolutional layer\n",
    "model.add(Conv2D(16,\n",
    "                 kernel_size=(3, 3),\n",
    "                 strides=(2, 2),\n",
    "                 padding='same',\n",
    "                 activation='relu',       \n",
    "                 input_shape=(image_height, image_width, 3))) \n",
    "\n",
    "          \n",
    "# pooling layer, no striding\n",
    "model.add(MaxPooling2D(pool_size=(2, 2)))\n",
    "\n",
    "# Second convolutional layer\n",
    "model.add(Conv2D(64,\n",
    "                 kernel_size=(3, 3),\n",
    "                 strides=(1, 1),\n",
    "                 padding='same',\n",
    "                 activation='relu'))\n",
    "\n",
    "# pooling layer, no striding\n",
    "model.add(MaxPooling2D(pool_size=(2, 2)))\n",
    "\n",
    "# Flattening layer\n",
    "model.add(Flatten())\n",
    "\n",
    "# Fully connected & dropout layers\n",
    "model.add(Dropout(0.8))\n",
    "model.add(Dense(16, activation='relu'))\n",
    "model.add(Dropout(0.8))\n",
    "\n",
    "# Output layer\n",
    "model.add(Dense(1, activation='sigmoid'))\n",
    "\n",
    "# Compiles model\n",
    "model.compile(loss='binary_crossentropy',\n",
    "              optimizer=Adam(learning_rate=0.001),\n",
    "              metrics=['accuracy'])"
   ]
  },
  {
   "cell_type": "markdown",
   "metadata": {},
   "source": [
    "## Model Fitting"
   ]
  },
  {
   "cell_type": "code",
   "execution_count": 16,
   "metadata": {
    "scrolled": true
   },
   "outputs": [
    {
     "name": "stdout",
     "output_type": "stream",
     "text": [
      "Found 2983 images belonging to 2 classes.\n",
      "Found 745 images belonging to 2 classes.\n",
      "Found 14 images belonging to 2 classes.\n",
      "WARNING:tensorflow:sample_weight modes were coerced from\n",
      "  ...\n",
      "    to  \n",
      "  ['...']\n",
      "WARNING:tensorflow:sample_weight modes were coerced from\n",
      "  ...\n",
      "    to  \n",
      "  ['...']\n",
      "Train for 46 steps, validate for 11 steps\n",
      "Epoch 1/50\n",
      "WARNING:tensorflow:Large dropout rate: 0.8 (>0.5). In TensorFlow 2.x, dropout() uses dropout rate instead of keep_prob. Please ensure that this is intended.\n",
      "WARNING:tensorflow:Large dropout rate: 0.8 (>0.5). In TensorFlow 2.x, dropout() uses dropout rate instead of keep_prob. Please ensure that this is intended.\n",
      "WARNING:tensorflow:Large dropout rate: 0.8 (>0.5). In TensorFlow 2.x, dropout() uses dropout rate instead of keep_prob. Please ensure that this is intended.\n",
      "46/46 [==============================] - 68s 1s/step - loss: 0.6647 - accuracy: 0.5862 - val_loss: 0.6026 - val_accuracy: 0.6889\n",
      "Epoch 2/50\n",
      "46/46 [==============================] - 67s 1s/step - loss: 0.5877 - accuracy: 0.6886 - val_loss: 0.5446 - val_accuracy: 0.7670\n",
      "Epoch 3/50\n",
      "46/46 [==============================] - 67s 1s/step - loss: 0.5644 - accuracy: 0.7081 - val_loss: 0.5638 - val_accuracy: 0.7997\n",
      "Epoch 4/50\n",
      "46/46 [==============================] - 66s 1s/step - loss: 0.5452 - accuracy: 0.7451 - val_loss: 0.5118 - val_accuracy: 0.8281\n",
      "Epoch 5/50\n",
      "46/46 [==============================] - 74s 2s/step - loss: 0.5098 - accuracy: 0.7739 - val_loss: 0.4475 - val_accuracy: 0.8224\n",
      "Epoch 6/50\n",
      "46/46 [==============================] - 74s 2s/step - loss: 0.4869 - accuracy: 0.8037 - val_loss: 0.4079 - val_accuracy: 0.8395\n",
      "Epoch 7/50\n",
      "46/46 [==============================] - 67s 1s/step - loss: 0.4858 - accuracy: 0.7934 - val_loss: 0.4498 - val_accuracy: 0.8352\n",
      "Epoch 8/50\n",
      "46/46 [==============================] - 66s 1s/step - loss: 0.4688 - accuracy: 0.7989 - val_loss: 0.3891 - val_accuracy: 0.8523\n",
      "Epoch 9/50\n",
      "46/46 [==============================] - 67s 1s/step - loss: 0.4728 - accuracy: 0.7989 - val_loss: 0.4776 - val_accuracy: 0.7756\n",
      "Epoch 10/50\n",
      "46/46 [==============================] - 65s 1s/step - loss: 0.4338 - accuracy: 0.8112 - val_loss: 0.3669 - val_accuracy: 0.8438\n",
      "Epoch 11/50\n",
      "46/46 [==============================] - 65s 1s/step - loss: 0.4174 - accuracy: 0.8181 - val_loss: 0.3588 - val_accuracy: 0.8509\n",
      "Epoch 12/50\n",
      "46/46 [==============================] - 66s 1s/step - loss: 0.3946 - accuracy: 0.8404 - val_loss: 0.3075 - val_accuracy: 0.8622\n",
      "Epoch 13/50\n",
      "46/46 [==============================] - 68s 1s/step - loss: 0.3941 - accuracy: 0.8304 - val_loss: 0.3462 - val_accuracy: 0.8509\n",
      "Epoch 14/50\n",
      "46/46 [==============================] - 67s 1s/step - loss: 0.3972 - accuracy: 0.8352 - val_loss: 0.2970 - val_accuracy: 0.8778\n",
      "Epoch 15/50\n",
      "46/46 [==============================] - 71s 2s/step - loss: 0.3864 - accuracy: 0.8386 - val_loss: 0.2966 - val_accuracy: 0.8750\n",
      "Epoch 16/50\n",
      "46/46 [==============================] - 77s 2s/step - loss: 0.4048 - accuracy: 0.8386 - val_loss: 0.3310 - val_accuracy: 0.8807\n",
      "Epoch 17/50\n",
      "46/46 [==============================] - 67s 1s/step - loss: 0.3758 - accuracy: 0.8438 - val_loss: 0.4460 - val_accuracy: 0.8338\n",
      "Epoch 18/50\n",
      "46/46 [==============================] - 67s 1s/step - loss: 0.3813 - accuracy: 0.8345 - val_loss: 0.3460 - val_accuracy: 0.8636\n",
      "Epoch 19/50\n",
      "46/46 [==============================] - 68s 1s/step - loss: 0.3872 - accuracy: 0.8349 - val_loss: 0.3380 - val_accuracy: 0.8636\n",
      "Epoch 20/50\n",
      "46/46 [==============================] - 70s 2s/step - loss: 0.3766 - accuracy: 0.8410 - val_loss: 0.3389 - val_accuracy: 0.8580\n",
      "Epoch 21/50\n",
      "46/46 [==============================] - 69s 1s/step - loss: 0.3935 - accuracy: 0.8342 - val_loss: 0.2726 - val_accuracy: 0.8892\n",
      "Epoch 22/50\n",
      "46/46 [==============================] - 66s 1s/step - loss: 0.3729 - accuracy: 0.8421 - val_loss: 0.2628 - val_accuracy: 0.9006\n",
      "Epoch 23/50\n",
      "46/46 [==============================] - 64s 1s/step - loss: 0.3696 - accuracy: 0.8503 - val_loss: 0.2981 - val_accuracy: 0.8807\n",
      "Epoch 24/50\n",
      "46/46 [==============================] - 66s 1s/step - loss: 0.3547 - accuracy: 0.8547 - val_loss: 0.3016 - val_accuracy: 0.8722\n",
      "Epoch 25/50\n",
      "46/46 [==============================] - 65s 1s/step - loss: 0.3618 - accuracy: 0.8595 - val_loss: 0.2930 - val_accuracy: 0.8807\n",
      "Epoch 26/50\n",
      "46/46 [==============================] - 69s 2s/step - loss: 0.3677 - accuracy: 0.8534 - val_loss: 0.2909 - val_accuracy: 0.8651\n",
      "Epoch 27/50\n",
      "46/46 [==============================] - 66s 1s/step - loss: 0.3484 - accuracy: 0.8589 - val_loss: 0.2746 - val_accuracy: 0.8693\n",
      "Epoch 28/50\n",
      "46/46 [==============================] - 67s 1s/step - loss: 0.3432 - accuracy: 0.8640 - val_loss: 0.2525 - val_accuracy: 0.8892\n",
      "Epoch 29/50\n",
      "46/46 [==============================] - 66s 1s/step - loss: 0.3415 - accuracy: 0.8657 - val_loss: 0.2627 - val_accuracy: 0.8793\n",
      "Epoch 30/50\n",
      "46/46 [==============================] - 67s 1s/step - loss: 0.3526 - accuracy: 0.8698 - val_loss: 0.2901 - val_accuracy: 0.8835\n",
      "Epoch 31/50\n",
      "46/46 [==============================] - 69s 2s/step - loss: 0.3478 - accuracy: 0.8664 - val_loss: 0.2469 - val_accuracy: 0.8977\n",
      "Epoch 32/50\n",
      "46/46 [==============================] - 65s 1s/step - loss: 0.3334 - accuracy: 0.8671 - val_loss: 0.3222 - val_accuracy: 0.8693\n",
      "Epoch 33/50\n",
      "46/46 [==============================] - 66s 1s/step - loss: 0.3233 - accuracy: 0.8708 - val_loss: 0.3103 - val_accuracy: 0.8722\n",
      "Epoch 34/50\n",
      "46/46 [==============================] - 64s 1s/step - loss: 0.3497 - accuracy: 0.8565 - val_loss: 0.2938 - val_accuracy: 0.8807\n",
      "Epoch 35/50\n",
      "46/46 [==============================] - 68s 1s/step - loss: 0.3273 - accuracy: 0.8654 - val_loss: 0.2980 - val_accuracy: 0.8722\n",
      "Epoch 36/50\n",
      "46/46 [==============================] - 66s 1s/step - loss: 0.3326 - accuracy: 0.8654 - val_loss: 0.2960 - val_accuracy: 0.8707\n",
      "Epoch 37/50\n",
      "46/46 [==============================] - 68s 1s/step - loss: 0.3251 - accuracy: 0.8684 - val_loss: 0.2875 - val_accuracy: 0.8764\n",
      "Epoch 38/50\n",
      "46/46 [==============================] - 66s 1s/step - loss: 0.3229 - accuracy: 0.8688 - val_loss: 0.2431 - val_accuracy: 0.8935\n",
      "Epoch 39/50\n",
      "46/46 [==============================] - 68s 1s/step - loss: 0.3187 - accuracy: 0.8794 - val_loss: 0.2919 - val_accuracy: 0.8849\n",
      "Epoch 40/50\n",
      "46/46 [==============================] - 67s 1s/step - loss: 0.3150 - accuracy: 0.8784 - val_loss: 0.2457 - val_accuracy: 0.9048\n",
      "Epoch 41/50\n",
      "46/46 [==============================] - 61s 1s/step - loss: 0.3125 - accuracy: 0.8832 - val_loss: 0.3380 - val_accuracy: 0.8636\n",
      "Epoch 42/50\n",
      "46/46 [==============================] - 61s 1s/step - loss: 0.3017 - accuracy: 0.8887 - val_loss: 0.2691 - val_accuracy: 0.8807\n",
      "Epoch 43/50\n",
      "46/46 [==============================] - 64s 1s/step - loss: 0.3096 - accuracy: 0.8863 - val_loss: 0.2697 - val_accuracy: 0.8977\n",
      "Epoch 44/50\n",
      "46/46 [==============================] - 62s 1s/step - loss: 0.2871 - accuracy: 0.8962 - val_loss: 0.4188 - val_accuracy: 0.8551\n",
      "Epoch 45/50\n",
      "46/46 [==============================] - 61s 1s/step - loss: 0.3130 - accuracy: 0.8822 - val_loss: 0.2587 - val_accuracy: 0.8892\n",
      "Epoch 46/50\n",
      "46/46 [==============================] - 62s 1s/step - loss: 0.2894 - accuracy: 0.8945 - val_loss: 0.4027 - val_accuracy: 0.8565\n",
      "Epoch 47/50\n",
      "46/46 [==============================] - 61s 1s/step - loss: 0.3130 - accuracy: 0.8774 - val_loss: 0.3322 - val_accuracy: 0.8736\n",
      "Epoch 48/50\n",
      "45/46 [============================>.] - ETA: 1s - loss: 0.3130 - accuracy: 0.8785Restoring model weights from the end of the best epoch.\n",
      "46/46 [==============================] - 62s 1s/step - loss: 0.3156 - accuracy: 0.8784 - val_loss: 0.2856 - val_accuracy: 0.8892\n",
      "Epoch 00048: early stopping\n"
     ]
    }
   ],
   "source": [
    "train_image_datagen = ImageDataGenerator(\n",
    "    rescale=1./255,\n",
    "    zoom_range=0.2,\n",
    "    horizontal_flip=True,\n",
    "    fill_mode='nearest',    # constant, nearest, reflect, wrap\n",
    "    validation_split=0.2)\n",
    "\n",
    "test_image_datagen = ImageDataGenerator(rescale=1./255)\n",
    "\n",
    "training_generator = train_image_datagen.flow_from_directory(\n",
    "    training_dir,\n",
    "    target_size=(image_height, image_width), # Images resized to this.\n",
    "    color_mode='rgb',\n",
    "    batch_size = batch_size,\n",
    "    class_mode='binary',\n",
    "    subset='training')\n",
    "    \n",
    "validation_generator = train_image_datagen.flow_from_directory(\n",
    "    training_dir,\n",
    "    target_size=(image_height, image_width),\n",
    "    batch_size = batch_size,\n",
    "    class_mode='binary',\n",
    "    subset='validation')\n",
    "\n",
    "test_generator = test_image_datagen.flow_from_directory(\n",
    "    test_dir,\n",
    "    target_size = (image_height, image_width),\n",
    "    shuffle=False,\n",
    "    class_mode = 'binary',\n",
    "    batch_size = 1)\n",
    "\n",
    "es = EarlyStopping(\n",
    "    monitor='val_loss',\n",
    "    min_delta=0,\n",
    "    patience=10,\n",
    "    verbose = 1,\n",
    "    restore_best_weights=True)\n",
    "\n",
    "history = model.fit(\n",
    "    training_generator,\n",
    "    steps_per_epoch = training_generator.samples // batch_size,\n",
    "    validation_data = validation_generator,\n",
    "    validation_steps = validation_generator.samples // batch_size,\n",
    "    epochs=num_epochs,\n",
    "    callbacks=[es]\n",
    ")"
   ]
  },
  {
   "cell_type": "markdown",
   "metadata": {},
   "source": [
    "## Summary & Analysis"
   ]
  },
  {
   "cell_type": "code",
   "execution_count": 17,
   "metadata": {},
   "outputs": [
    {
     "data": {
      "text/plain": [
       "{'0_people': 0, '1_landscapes': 1}"
      ]
     },
     "execution_count": 17,
     "metadata": {},
     "output_type": "execute_result"
    }
   ],
   "source": [
    "training_generator.class_indices"
   ]
  },
  {
   "cell_type": "code",
   "execution_count": 18,
   "metadata": {},
   "outputs": [
    {
     "name": "stdout",
     "output_type": "stream",
     "text": [
      "Model: \"sequential_1\"\n",
      "_________________________________________________________________\n",
      "Layer (type)                 Output Shape              Param #   \n",
      "=================================================================\n",
      "conv2d_2 (Conv2D)            (None, 128, 128, 16)      448       \n",
      "_________________________________________________________________\n",
      "max_pooling2d_2 (MaxPooling2 (None, 64, 64, 16)        0         \n",
      "_________________________________________________________________\n",
      "conv2d_3 (Conv2D)            (None, 64, 64, 64)        9280      \n",
      "_________________________________________________________________\n",
      "max_pooling2d_3 (MaxPooling2 (None, 32, 32, 64)        0         \n",
      "_________________________________________________________________\n",
      "flatten_1 (Flatten)          (None, 65536)             0         \n",
      "_________________________________________________________________\n",
      "dropout_2 (Dropout)          (None, 65536)             0         \n",
      "_________________________________________________________________\n",
      "dense_2 (Dense)              (None, 16)                1048592   \n",
      "_________________________________________________________________\n",
      "dropout_3 (Dropout)          (None, 16)                0         \n",
      "_________________________________________________________________\n",
      "dense_3 (Dense)              (None, 1)                 17        \n",
      "=================================================================\n",
      "Total params: 1,058,337\n",
      "Trainable params: 1,058,337\n",
      "Non-trainable params: 0\n",
      "_________________________________________________________________\n"
     ]
    }
   ],
   "source": [
    "model.summary()"
   ]
  },
  {
   "cell_type": "code",
   "execution_count": 19,
   "metadata": {},
   "outputs": [
    {
     "data": {
      "image/png": "[encoded data removed]",
      "text/plain": [
       "<Figure size 432x288 with 1 Axes>"
      ]
     },
     "metadata": {
      "needs_background": "light"
     },
     "output_type": "display_data"
    }
   ],
   "source": [
    "# Generates line plot for loss.\n",
    "plt.plot(history.history['loss'], label='Train Loss')\n",
    "plt.plot(history.history['val_loss'], label='Val Loss')\n",
    "plt.legend();"
   ]
  },
  {
   "cell_type": "code",
   "execution_count": 20,
   "metadata": {},
   "outputs": [
    {
     "data": {
      "image/png": "[encoded data removed]",
      "text/plain": [
       "<Figure size 432x288 with 1 Axes>"
      ]
     },
     "metadata": {
      "needs_background": "light"
     },
     "output_type": "display_data"
    }
   ],
   "source": [
    "# Generates line plot for accuracy.\n",
    "plt.plot(history.history['accuracy'], label='Train Accuracy')\n",
    "plt.plot(history.history['val_accuracy'], label='Val Accuracy')\n",
    "plt.legend();"
   ]
  },
  {
   "cell_type": "markdown",
   "metadata": {},
   "source": [
    "## Evaluate"
   ]
  },
  {
   "cell_type": "code",
   "execution_count": 21,
   "metadata": {},
   "outputs": [
    {
     "name": "stdout",
     "output_type": "stream",
     "text": [
      "WARNING:tensorflow:sample_weight modes were coerced from\n",
      "  ...\n",
      "    to  \n",
      "  ['...']\n",
      "12/12 [==============================] - 13s 1s/step - loss: 0.2382 - accuracy: 0.9060\n",
      "loss: 0.23819293330113092\n",
      "accuracy: 0.9060402512550354\n"
     ]
    }
   ],
   "source": [
    "# Evaluate model on test data.\n",
    "score = model.evaluate(validation_generator,\n",
    "                       verbose=1)\n",
    "\n",
    "labels = model.metrics_names\n",
    "\n",
    "# Show model performance.\n",
    "print(f'{labels[0]}: {score[0]}')\n",
    "print(f'{labels[1]}: {score[1]}')"
   ]
  },
  {
   "cell_type": "markdown",
   "metadata": {},
   "source": [
    "## Save Model"
   ]
  },
  {
   "cell_type": "code",
   "execution_count": 25,
   "metadata": {},
   "outputs": [],
   "source": [
    "model.save('../finished_model.h5')"
   ]
  }
 ],
 "metadata": {
  "kernelspec": {
   "display_name": "Python 3",
   "language": "python",
   "name": "python3"
  },
  "language_info": {
   "codemirror_mode": {
    "name": "ipython",
    "version": 3
   },
   "file_extension": ".py",
   "mimetype": "text/x-python",
   "name": "python",
   "nbconvert_exporter": "python",
   "pygments_lexer": "ipython3",
   "version": "3.7.6"
  }
 },
 "nbformat": 4,
 "nbformat_minor": 4
}
