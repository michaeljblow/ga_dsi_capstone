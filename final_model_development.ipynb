{
 "cells": [
  {
   "cell_type": "markdown",
   "metadata": {},
   "source": [
    "## Libraries and Imports"
   ]
  },
  {
   "cell_type": "code",
   "execution_count": 5,
   "metadata": {},
   "outputs": [],
   "source": [
    "# Import Libraries\n",
    "import numpy as np\n",
    "import matplotlib.pyplot as plt\n",
    "import pandas as pd\n",
    "import os\n",
    "import shutil\n",
    "\n",
    "# For reproducibility\n",
    "np.random.seed(42)\n",
    "\n",
    "from sklearn.model_selection import train_test_split\n",
    "from sklearn.metrics import confusion_matrix\n",
    "\n",
    "from tensorflow.keras.models import Sequential, load_model\n",
    "from tensorflow.keras.layers import Dense, Dropout, Flatten, Conv2D, MaxPooling2D\n",
    "from tensorflow.keras.optimizers import Adam\n",
    "from tensorflow.keras import utils\n",
    "from tensorflow.keras.preprocessing.image import ImageDataGenerator, load_img, img_to_array\n",
    "from tensorflow.keras.callbacks import EarlyStopping\n",
    "\n",
    "import h5py\n",
    "\n",
    "%matplotlib inline"
   ]
  },
  {
   "cell_type": "markdown",
   "metadata": {},
   "source": [
    "## Parameters"
   ]
  },
  {
   "cell_type": "code",
   "execution_count": 6,
   "metadata": {},
   "outputs": [],
   "source": [
    "training_dir = '../images/new_model'\n",
    "test_dir     = '../test_images/'\n",
    "image_height = 256\n",
    "image_width  = 256\n",
    "batch_size   = 64\n",
    "num_epochs   = 50"
   ]
  },
  {
   "cell_type": "markdown",
   "metadata": {},
   "source": [
    "## Model Construction"
   ]
  },
  {
   "cell_type": "code",
   "execution_count": 7,
   "metadata": {},
   "outputs": [],
   "source": [
    "# Instantiates model\n",
    "model = Sequential()\n",
    "\n",
    "# First convolutional layer\n",
    "model.add(Conv2D(8,\n",
    "                 kernel_size=(3, 3),\n",
    "                 strides=(1, 1),\n",
    "                 padding='same',\n",
    "                 activation='relu',       \n",
    "                 input_shape=(image_height, image_width, 3))) \n",
    "\n",
    "     \n",
    "# pooling layer\n",
    "model.add(MaxPooling2D(pool_size=(2, 2)))\n",
    "\n",
    "# Flattening layer\n",
    "model.add(Flatten())\n",
    "\n",
    "# Fully connected & dropout layers\n",
    "model.add(Dense(16, activation='relu'))\n",
    "model.add(Dropout(0.5))\n",
    "\n",
    "# Output layer\n",
    "model.add(Dense(1, activation='sigmoid'))\n",
    "\n",
    "# Compiles model\n",
    "model.compile(loss='binary_crossentropy',\n",
    "              optimizer=Adam(learning_rate=0.001),\n",
    "              metrics=['accuracy'])"
   ]
  },
  {
   "cell_type": "markdown",
   "metadata": {},
   "source": [
    "## Model Fitting"
   ]
  },
  {
   "cell_type": "code",
   "execution_count": 8,
   "metadata": {},
   "outputs": [
    {
     "name": "stdout",
     "output_type": "stream",
     "text": [
      "Found 2983 images belonging to 2 classes.\n",
      "Found 745 images belonging to 2 classes.\n",
      "Found 11 images belonging to 1 classes.\n",
      "WARNING:tensorflow:sample_weight modes were coerced from\n",
      "  ...\n",
      "    to  \n",
      "  ['...']\n",
      "WARNING:tensorflow:sample_weight modes were coerced from\n",
      "  ...\n",
      "    to  \n",
      "  ['...']\n",
      "Train for 46 steps, validate for 11 steps\n",
      "Epoch 1/50\n",
      "46/46 [==============================] - 107s 2s/step - loss: 0.9331 - accuracy: 0.5546 - val_loss: 0.6616 - val_accuracy: 0.6236\n",
      "Epoch 2/50\n",
      "46/46 [==============================] - 70s 2s/step - loss: 0.6290 - accuracy: 0.6304 - val_loss: 0.6188 - val_accuracy: 0.6577\n",
      "Epoch 3/50\n",
      "46/46 [==============================] - 69s 2s/step - loss: 0.6208 - accuracy: 0.6471 - val_loss: 0.6214 - val_accuracy: 0.7074\n",
      "Epoch 4/50\n",
      "46/46 [==============================] - 65s 1s/step - loss: 0.6093 - accuracy: 0.6591 - val_loss: 0.5931 - val_accuracy: 0.7017\n",
      "Epoch 5/50\n",
      "46/46 [==============================] - 69s 2s/step - loss: 0.5986 - accuracy: 0.6766 - val_loss: 0.5788 - val_accuracy: 0.6932\n",
      "Epoch 6/50\n",
      "46/46 [==============================] - 72s 2s/step - loss: 0.5997 - accuracy: 0.6718 - val_loss: 0.5698 - val_accuracy: 0.7216\n",
      "Epoch 7/50\n",
      "46/46 [==============================] - 72s 2s/step - loss: 0.6002 - accuracy: 0.6653 - val_loss: 0.5573 - val_accuracy: 0.7727\n",
      "Epoch 8/50\n",
      "46/46 [==============================] - 65s 1s/step - loss: 0.5887 - accuracy: 0.6769 - val_loss: 0.5486 - val_accuracy: 0.7756\n",
      "Epoch 9/50\n",
      "46/46 [==============================] - 69s 2s/step - loss: 0.5808 - accuracy: 0.6811 - val_loss: 0.5806 - val_accuracy: 0.7642\n",
      "Epoch 10/50\n",
      "46/46 [==============================] - 70s 2s/step - loss: 0.5993 - accuracy: 0.6626 - val_loss: 0.5512 - val_accuracy: 0.7685\n",
      "Epoch 11/50\n",
      "46/46 [==============================] - 65s 1s/step - loss: 0.5836 - accuracy: 0.6752 - val_loss: 0.5586 - val_accuracy: 0.7685\n",
      "Epoch 12/50\n",
      "46/46 [==============================] - 73s 2s/step - loss: 0.5750 - accuracy: 0.6824 - val_loss: 0.5375 - val_accuracy: 0.7770\n",
      "Epoch 13/50\n",
      "46/46 [==============================] - 72s 2s/step - loss: 0.5660 - accuracy: 0.6985 - val_loss: 0.5305 - val_accuracy: 0.8097\n",
      "Epoch 14/50\n",
      "46/46 [==============================] - 70s 2s/step - loss: 0.5688 - accuracy: 0.6841 - val_loss: 0.5439 - val_accuracy: 0.7898\n",
      "Epoch 15/50\n",
      "46/46 [==============================] - 66s 1s/step - loss: 0.5662 - accuracy: 0.6889 - val_loss: 0.5497 - val_accuracy: 0.7699\n",
      "Epoch 16/50\n",
      "46/46 [==============================] - 65s 1s/step - loss: 0.5845 - accuracy: 0.6711 - val_loss: 0.5416 - val_accuracy: 0.7898\n",
      "Epoch 17/50\n",
      "46/46 [==============================] - 73s 2s/step - loss: 0.5689 - accuracy: 0.6862 - val_loss: 0.5535 - val_accuracy: 0.7841\n",
      "Epoch 18/50\n",
      "46/46 [==============================] - 65s 1s/step - loss: 0.5578 - accuracy: 0.6978 - val_loss: 0.5391 - val_accuracy: 0.7841\n",
      "Epoch 19/50\n",
      "46/46 [==============================] - 64s 1s/step - loss: 0.5657 - accuracy: 0.6889 - val_loss: 0.5152 - val_accuracy: 0.7955\n",
      "Epoch 20/50\n",
      "46/46 [==============================] - 63s 1s/step - loss: 0.5640 - accuracy: 0.6903 - val_loss: 0.5271 - val_accuracy: 0.7741\n",
      "Epoch 21/50\n",
      "46/46 [==============================] - 64s 1s/step - loss: 0.5667 - accuracy: 0.6876 - val_loss: 0.5121 - val_accuracy: 0.7855\n",
      "Epoch 22/50\n",
      "46/46 [==============================] - 63s 1s/step - loss: 0.5663 - accuracy: 0.6882 - val_loss: 0.5484 - val_accuracy: 0.7741\n",
      "Epoch 23/50\n",
      "46/46 [==============================] - 63s 1s/step - loss: 0.5582 - accuracy: 0.6972 - val_loss: 0.5372 - val_accuracy: 0.7926\n",
      "Epoch 24/50\n",
      "46/46 [==============================] - 63s 1s/step - loss: 0.5638 - accuracy: 0.6920 - val_loss: 0.5593 - val_accuracy: 0.7571\n",
      "Epoch 25/50\n",
      "46/46 [==============================] - 63s 1s/step - loss: 0.5560 - accuracy: 0.6896 - val_loss: 0.5337 - val_accuracy: 0.7685\n",
      "Epoch 26/50\n",
      "46/46 [==============================] - 65s 1s/step - loss: 0.5462 - accuracy: 0.7016 - val_loss: 0.5210 - val_accuracy: 0.7869\n",
      "Epoch 27/50\n",
      "46/46 [==============================] - 68s 1s/step - loss: 0.5570 - accuracy: 0.6978 - val_loss: 0.5589 - val_accuracy: 0.7500\n",
      "Epoch 28/50\n",
      "46/46 [==============================] - 69s 1s/step - loss: 0.5461 - accuracy: 0.7009 - val_loss: 0.5601 - val_accuracy: 0.7486\n",
      "Epoch 29/50\n",
      "46/46 [==============================] - 68s 1s/step - loss: 0.5585 - accuracy: 0.6896 - val_loss: 0.5388 - val_accuracy: 0.7642\n",
      "Epoch 30/50\n",
      "46/46 [==============================] - 69s 1s/step - loss: 0.5599 - accuracy: 0.6910 - val_loss: 0.5533 - val_accuracy: 0.7628\n",
      "Epoch 31/50\n",
      "46/46 [==============================] - 69s 1s/step - loss: 0.5545 - accuracy: 0.6917 - val_loss: 0.5092 - val_accuracy: 0.7955\n",
      "Epoch 32/50\n",
      "46/46 [==============================] - 69s 1s/step - loss: 0.5589 - accuracy: 0.6934 - val_loss: 0.5042 - val_accuracy: 0.8068\n",
      "Epoch 33/50\n",
      "46/46 [==============================] - 69s 1s/step - loss: 0.5464 - accuracy: 0.6999 - val_loss: 0.5137 - val_accuracy: 0.7741\n",
      "Epoch 34/50\n",
      "46/46 [==============================] - 69s 2s/step - loss: 0.5396 - accuracy: 0.7037 - val_loss: 0.5113 - val_accuracy: 0.7841\n",
      "Epoch 35/50\n",
      "46/46 [==============================] - 66s 1s/step - loss: 0.5568 - accuracy: 0.6896 - val_loss: 0.5189 - val_accuracy: 0.7869\n",
      "Epoch 36/50\n",
      "46/46 [==============================] - 66s 1s/step - loss: 0.5530 - accuracy: 0.6906 - val_loss: 0.4752 - val_accuracy: 0.8182\n",
      "Epoch 37/50\n",
      "46/46 [==============================] - 65s 1s/step - loss: 0.5481 - accuracy: 0.6965 - val_loss: 0.5282 - val_accuracy: 0.7756\n",
      "Epoch 38/50\n",
      "46/46 [==============================] - 66s 1s/step - loss: 0.5467 - accuracy: 0.7023 - val_loss: 0.4819 - val_accuracy: 0.8068\n",
      "Epoch 39/50\n",
      "46/46 [==============================] - 65s 1s/step - loss: 0.5480 - accuracy: 0.7020 - val_loss: 0.4936 - val_accuracy: 0.7841\n",
      "Epoch 40/50\n",
      "46/46 [==============================] - 65s 1s/step - loss: 0.5494 - accuracy: 0.6989 - val_loss: 0.4899 - val_accuracy: 0.8011\n",
      "Epoch 41/50\n",
      "46/46 [==============================] - 65s 1s/step - loss: 0.5441 - accuracy: 0.7044 - val_loss: 0.5042 - val_accuracy: 0.8097\n",
      "Epoch 42/50\n",
      "46/46 [==============================] - 65s 1s/step - loss: 0.5431 - accuracy: 0.7112 - val_loss: 0.5290 - val_accuracy: 0.7713\n",
      "Epoch 43/50\n",
      "46/46 [==============================] - 66s 1s/step - loss: 0.5493 - accuracy: 0.6978 - val_loss: 0.4849 - val_accuracy: 0.7912\n",
      "Epoch 44/50\n",
      "46/46 [==============================] - 66s 1s/step - loss: 0.5353 - accuracy: 0.7109 - val_loss: 0.4566 - val_accuracy: 0.8423\n",
      "Epoch 45/50\n",
      "46/46 [==============================] - 65s 1s/step - loss: 0.5407 - accuracy: 0.7064 - val_loss: 0.4961 - val_accuracy: 0.7912\n",
      "Epoch 46/50\n",
      "46/46 [==============================] - 67s 1s/step - loss: 0.5534 - accuracy: 0.6934 - val_loss: 0.4934 - val_accuracy: 0.8011\n",
      "Epoch 47/50\n",
      "46/46 [==============================] - 73s 2s/step - loss: 0.5175 - accuracy: 0.7205 - val_loss: 0.4613 - val_accuracy: 0.8281\n",
      "Epoch 48/50\n",
      "46/46 [==============================] - 67s 1s/step - loss: 0.5465 - accuracy: 0.6970 - val_loss: 0.4968 - val_accuracy: 0.8111\n",
      "Epoch 49/50\n",
      "46/46 [==============================] - 69s 1s/step - loss: 0.5388 - accuracy: 0.7085 - val_loss: 0.5216 - val_accuracy: 0.7599\n",
      "Epoch 50/50\n",
      "46/46 [==============================] - 88s 2s/step - loss: 0.5405 - accuracy: 0.7088 - val_loss: 0.4936 - val_accuracy: 0.7884\n"
     ]
    }
   ],
   "source": [
    "train_image_datagen = ImageDataGenerator(\n",
    "    #rotation_range=40,\n",
    "    #width_shift_range=0.2,\n",
    "    #height_shift_range=0.2,\n",
    "    rescale=1./255,\n",
    "    #shear_range=0.2,\n",
    "    zoom_range=0.2,\n",
    "    horizontal_flip=True,\n",
    "    #fill_mode='nearest',    # constant, nearest, reflect, wrap\n",
    "    validation_split=0.2)\n",
    "\n",
    "test_image_datagen = ImageDataGenerator(rescale=1./255)\n",
    "\n",
    "training_generator = train_image_datagen.flow_from_directory(\n",
    "    training_dir,\n",
    "    target_size=(image_height, image_width), # Images resized to this.\n",
    "    color_mode='rgb',\n",
    "    batch_size = batch_size,\n",
    "    class_mode='binary',\n",
    "    subset='training')\n",
    "    \n",
    "validation_generator = train_image_datagen.flow_from_directory(\n",
    "    training_dir,\n",
    "    target_size=(image_height, image_width),\n",
    "    batch_size = batch_size,\n",
    "    class_mode='binary',\n",
    "    subset='validation')\n",
    "\n",
    "test_generator = test_image_datagen.flow_from_directory(\n",
    "    test_dir,\n",
    "    target_size = (image_height, image_width),\n",
    "    shuffle=False,\n",
    "    class_mode = 'binary',\n",
    "    batch_size = 1)\n",
    "\n",
    "# Stops model training early if overfitting is detected\n",
    "es = EarlyStopping(\n",
    "    monitor='val_loss',\n",
    "    min_delta=0,\n",
    "    patience=10,\n",
    "    verbose = 1,\n",
    "    restore_best_weights=True)\n",
    "\n",
    "# Fits the model with 80/20 training/validation split\n",
    "history = model.fit(\n",
    "    training_generator,\n",
    "    steps_per_epoch = training_generator.samples // batch_size,\n",
    "    validation_data = validation_generator,\n",
    "    validation_steps = validation_generator.samples // batch_size,\n",
    "    epochs=num_epochs,\n",
    "    callbacks=[es]\n",
    ")"
   ]
  },
  {
   "cell_type": "markdown",
   "metadata": {},
   "source": [
    "## Summary & Analysis"
   ]
  },
  {
   "cell_type": "code",
   "execution_count": 9,
   "metadata": {},
   "outputs": [
    {
     "data": {
      "text/plain": [
       "{'0_people': 0, '1_landscapes': 1}"
      ]
     },
     "execution_count": 9,
     "metadata": {},
     "output_type": "execute_result"
    }
   ],
   "source": [
    "training_generator.class_indices"
   ]
  },
  {
   "cell_type": "code",
   "execution_count": 10,
   "metadata": {},
   "outputs": [
    {
     "name": "stdout",
     "output_type": "stream",
     "text": [
      "Model: \"sequential_1\"\n",
      "_________________________________________________________________\n",
      "Layer (type)                 Output Shape              Param #   \n",
      "=================================================================\n",
      "conv2d_1 (Conv2D)            (None, 256, 256, 8)       224       \n",
      "_________________________________________________________________\n",
      "max_pooling2d_1 (MaxPooling2 (None, 128, 128, 8)       0         \n",
      "_________________________________________________________________\n",
      "flatten_1 (Flatten)          (None, 131072)            0         \n",
      "_________________________________________________________________\n",
      "dense_2 (Dense)              (None, 16)                2097168   \n",
      "_________________________________________________________________\n",
      "dropout_1 (Dropout)          (None, 16)                0         \n",
      "_________________________________________________________________\n",
      "dense_3 (Dense)              (None, 1)                 17        \n",
      "=================================================================\n",
      "Total params: 2,097,409\n",
      "Trainable params: 2,097,409\n",
      "Non-trainable params: 0\n",
      "_________________________________________________________________\n"
     ]
    }
   ],
   "source": [
    "model.summary()"
   ]
  },
  {
   "cell_type": "code",
   "execution_count": 11,
   "metadata": {},
   "outputs": [
    {
     "data": {
      "image/png": "[encoded data removed]",
      "text/plain": [
       "<Figure size 432x288 with 1 Axes>"
      ]
     },
     "metadata": {
      "needs_background": "light"
     },
     "output_type": "display_data"
    }
   ],
   "source": [
    "# Generates line plot for loss.\n",
    "plt.plot(history.history['loss'], label='Train Loss')\n",
    "plt.plot(history.history['val_loss'], label='Val Loss')\n",
    "plt.legend();"
   ]
  },
  {
   "cell_type": "code",
   "execution_count": 12,
   "metadata": {},
   "outputs": [
    {
     "data": {
      "image/png": "[encoded data removed]",
      "text/plain": [
       "<Figure size 432x288 with 1 Axes>"
      ]
     },
     "metadata": {
      "needs_background": "light"
     },
     "output_type": "display_data"
    }
   ],
   "source": [
    "# Generates line plot for accuracy.\n",
    "plt.plot(history.history['accuracy'], label='Train Accuracy')\n",
    "plt.plot(history.history['val_accuracy'], label='Val Accuracy')\n",
    "plt.legend();"
   ]
  },
  {
   "cell_type": "markdown",
   "metadata": {},
   "source": [
    "## Evaluate"
   ]
  },
  {
   "cell_type": "code",
   "execution_count": 13,
   "metadata": {},
   "outputs": [
    {
     "name": "stdout",
     "output_type": "stream",
     "text": [
      "WARNING:tensorflow:sample_weight modes were coerced from\n",
      "  ...\n",
      "    to  \n",
      "  ['...']\n",
      "12/12 [==============================] - 15s 1s/step - loss: 0.4968 - accuracy: 0.7839\n",
      "loss: 0.4968318392833074\n",
      "accuracy: 0.7838926315307617\n"
     ]
    }
   ],
   "source": [
    "# Evaluate model on test data.\n",
    "score = model.evaluate(validation_generator,\n",
    "                       verbose=1)\n",
    "\n",
    "labels = model.metrics_names\n",
    "\n",
    "# Show model performance.\n",
    "print(f'{labels[0]}: {score[0]}')\n",
    "print(f'{labels[1]}: {score[1]}')"
   ]
  },
  {
   "cell_type": "markdown",
   "metadata": {},
   "source": [
    "## Save Model"
   ]
  },
  {
   "cell_type": "code",
   "execution_count": 20,
   "metadata": {},
   "outputs": [],
   "source": [
    "model.save('../finished_model.h5')"
   ]
  }
 ],
 "metadata": {
  "kernelspec": {
   "display_name": "Python 3",
   "language": "python",
   "name": "python3"
  },
  "language_info": {
   "codemirror_mode": {
    "name": "ipython",
    "version": 3
   },
   "file_extension": ".py",
   "mimetype": "text/x-python",
   "name": "python",
   "nbconvert_exporter": "python",
   "pygments_lexer": "ipython3",
   "version": "3.7.6"
  }
 },
 "nbformat": 4,
 "nbformat_minor": 4
}
