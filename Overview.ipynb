{
 "cells": [
  {
   "cell_type": "markdown",
   "metadata": {},
   "source": [
    "# Capstone - Michael Blow\n",
    "### General Assembly - Data Science Immersive 10"
   ]
  },
  {
   "cell_type": "markdown",
   "metadata": {},
   "source": [
    "## Problem Statement"
   ]
  },
  {
   "cell_type": "markdown",
   "metadata": {},
   "source": [
    "Digital photographers often shoot thousands of images for a particular event or \"gig.\" On average, only 5 to 10% of images shot will be kept, post-processed, and potentially submitted to a client. I will build a convolutional neural network that will identify the category (landscape, portrait, etc.) of individual images and seek to identify those worthy of post-processing. Baseline score accuracy will be compared against the accuracy of Adobe Lightroom."
   ]
  },
  {
   "cell_type": "markdown",
   "metadata": {},
   "source": [
    "## Data"
   ]
  },
  {
   "cell_type": "markdown",
   "metadata": {},
   "source": [
    "The data will be my personal repository of over 15 years of professional photographic work."
   ]
  },
  {
   "cell_type": "markdown",
   "metadata": {},
   "source": [
    "## Initial EDA"
   ]
  },
  {
   "cell_type": "markdown",
   "metadata": {},
   "source": [
    "Initial EDA reveals approximately 30,000 total images. This has been cut down to include higher quality images from 2017-2019, totalling 15,000 images. A majority of files are 40+ megapixel, 14-bit, RAW images that have been exported to JPG files at 512 pixels on the longest edge."
   ]
  }
 ],
 "metadata": {
  "kernelspec": {
   "display_name": "Python 3",
   "language": "python",
   "name": "python3"
  },
  "language_info": {
   "codemirror_mode": {
    "name": "ipython",
    "version": 3
   },
   "file_extension": ".py",
   "mimetype": "text/x-python",
   "name": "python",
   "nbconvert_exporter": "python",
   "pygments_lexer": "ipython3",
   "version": "3.7.6"
  }
 },
 "nbformat": 4,
 "nbformat_minor": 4
}
