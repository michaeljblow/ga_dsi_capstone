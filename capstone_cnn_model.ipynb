{
 "cells": [
  {
   "cell_type": "markdown",
   "metadata": {},
   "source": [
    "## Libraries and Imports"
   ]
  },
  {
   "cell_type": "code",
   "execution_count": 1,
   "metadata": {},
   "outputs": [],
   "source": [
    "# Import Libraries\n",
    "import numpy as np\n",
    "import matplotlib.pyplot as plt\n",
    "import pandas as pd\n",
    "import os\n",
    "\n",
    "# For reproducibility\n",
    "np.random.seed(42)\n",
    "\n",
    "from sklearn.preprocessing import OneHotEncoder\n",
    "from sklearn.model_selection import train_test_split\n",
    "\n",
    "from tensorflow.keras.models import Sequential\n",
    "from tensorflow.keras.layers import Dense, Dropout, Flatten, Conv2D, MaxPooling2D\n",
    "from tensorflow.keras.optimizers import Adam\n",
    "from tensorflow.keras import utils\n",
    "from tensorflow.keras.preprocessing.image import ImageDataGenerator, load_img, img_to_array\n",
    "\n",
    "%matplotlib inline"
   ]
  },
  {
   "cell_type": "markdown",
   "metadata": {},
   "source": [
    "## Convolutional Neural Network"
   ]
  },
  {
   "cell_type": "code",
   "execution_count": 2,
   "metadata": {},
   "outputs": [],
   "source": [
    "# Instantiates model\n",
    "model = Sequential()\n",
    "\n",
    "# First convolutional layer\n",
    "model.add(Conv2D(filters=32,\n",
    "                 kernel_size=(5, 5),\n",
    "                 strides=(1, 1),\n",
    "                 padding='same',\n",
    "                 activation='relu',       \n",
    "                 input_shape=(256, 256, 3))) \n",
    "\n",
    "# Pooling layer with striding\n",
    "model.add(MaxPooling2D(pool_size=(2, 2),\n",
    "                       strides=(2, 2))) \n",
    "\n",
    "# Second convolutional layer\n",
    "model.add(Conv2D(64,\n",
    "                 kernel_size=(5, 5),\n",
    "                 activation='relu'))\n",
    "\n",
    "# Second pooling layer, no striding\n",
    "model.add(MaxPooling2D(pool_size=(2, 2)))\n",
    "\n",
    "# Flattening layer\n",
    "model.add(Flatten())\n",
    "\n",
    "# Fully connected layer\n",
    "model.add(Dense(64, activation='relu'))\n",
    "\n",
    "# Regularization layers\n",
    "model.add(Dropout(0.5))\n",
    "model.add(Dense(32, activation='relu'))\n",
    "model.add(Dropout(0.5))\n",
    "\n",
    "# Output layer\n",
    "model.add(Dense(1, activation='sigmoid'))\n",
    "\n",
    "# Compiles model\n",
    "model.compile(loss='binary_crossentropy',\n",
    "              optimizer=Adam(learning_rate=0.001),\n",
    "              metrics=['accuracy'])"
   ]
  },
  {
   "cell_type": "markdown",
   "metadata": {},
   "source": [
    "## Parameters"
   ]
  },
  {
   "cell_type": "code",
   "execution_count": 5,
   "metadata": {},
   "outputs": [],
   "source": [
    "training_dir = 'D:/Google Drive/capstone_images/'\n",
    "validate_dir = 'D:/Google Drive/capstone_images/keepers'\n",
    "image_height = 256\n",
    "image_width  = 256\n",
    "batch_size   = 32\n",
    "num_epochs   = 20"
   ]
  },
  {
   "cell_type": "markdown",
   "metadata": {},
   "source": [
    "## Model Construction and Fitting"
   ]
  },
  {
   "cell_type": "code",
   "execution_count": 6,
   "metadata": {},
   "outputs": [
    {
     "name": "stdout",
     "output_type": "stream",
     "text": [
      "Found 10732 images belonging to 2 classes.\n",
      "Found 3577 images belonging to 2 classes.\n",
      "WARNING:tensorflow:sample_weight modes were coerced from\n",
      "  ...\n",
      "    to  \n",
      "  ['...']\n",
      "WARNING:tensorflow:sample_weight modes were coerced from\n",
      "  ...\n",
      "    to  \n",
      "  ['...']\n",
      "Train for 335 steps, validate for 111 steps\n",
      "Epoch 1/20\n",
      "335/335 [==============================] - 273s 816ms/step - loss: 0.3304 - accuracy: 0.9211 - val_loss: 0.2595 - val_accuracy: 0.9257\n",
      "Epoch 2/20\n",
      "335/335 [==============================] - 226s 676ms/step - loss: 0.3000 - accuracy: 0.9242 - val_loss: 0.2694 - val_accuracy: 0.9257\n",
      "Epoch 3/20\n",
      "335/335 [==============================] - 256s 765ms/step - loss: 0.2856 - accuracy: 0.9254 - val_loss: 0.2779 - val_accuracy: 0.9257\n",
      "Epoch 4/20\n",
      "335/335 [==============================] - 261s 779ms/step - loss: 0.2788 - accuracy: 0.9254 - val_loss: 0.2636 - val_accuracy: 0.9257\n",
      "Epoch 5/20\n",
      "335/335 [==============================] - 256s 765ms/step - loss: 0.2764 - accuracy: 0.9253 - val_loss: 0.2676 - val_accuracy: 0.9257\n",
      "Epoch 6/20\n",
      "335/335 [==============================] - 252s 751ms/step - loss: 0.2712 - accuracy: 0.9257 - val_loss: 0.2673 - val_accuracy: 0.9257\n",
      "Epoch 7/20\n",
      "335/335 [==============================] - 247s 738ms/step - loss: 0.2706 - accuracy: 0.9255 - val_loss: 0.2668 - val_accuracy: 0.9257\n",
      "Epoch 8/20\n",
      "335/335 [==============================] - 246s 734ms/step - loss: 0.2716 - accuracy: 0.9256 - val_loss: 0.2649 - val_accuracy: 0.9257\n",
      "Epoch 9/20\n",
      "335/335 [==============================] - 241s 719ms/step - loss: 0.2689 - accuracy: 0.9255 - val_loss: 0.2647 - val_accuracy: 0.9257\n",
      "Epoch 10/20\n",
      "335/335 [==============================] - 251s 749ms/step - loss: 0.2692 - accuracy: 0.9254 - val_loss: 0.2637 - val_accuracy: 0.9257\n",
      "Epoch 11/20\n",
      "335/335 [==============================] - 259s 772ms/step - loss: 0.2687 - accuracy: 0.9253 - val_loss: 0.2628 - val_accuracy: 0.9257\n",
      "Epoch 12/20\n",
      "335/335 [==============================] - 255s 761ms/step - loss: 0.2664 - accuracy: 0.9254 - val_loss: 0.2673 - val_accuracy: 0.9257\n",
      "Epoch 13/20\n",
      "335/335 [==============================] - 243s 726ms/step - loss: 0.2688 - accuracy: 0.9253 - val_loss: 0.2658 - val_accuracy: 0.9257\n",
      "Epoch 14/20\n",
      "335/335 [==============================] - 260s 776ms/step - loss: 0.2698 - accuracy: 0.9256 - val_loss: 0.2659 - val_accuracy: 0.9257\n",
      "Epoch 15/20\n",
      "335/335 [==============================] - 243s 727ms/step - loss: 0.2687 - accuracy: 0.9254 - val_loss: 0.2673 - val_accuracy: 0.9257\n",
      "Epoch 16/20\n",
      "335/335 [==============================] - 242s 722ms/step - loss: 0.2679 - accuracy: 0.9252 - val_loss: 0.2683 - val_accuracy: 0.9257\n",
      "Epoch 17/20\n",
      "335/335 [==============================] - 249s 745ms/step - loss: 0.2657 - accuracy: 0.9252 - val_loss: 0.2678 - val_accuracy: 0.9257\n",
      "Epoch 18/20\n",
      "335/335 [==============================] - 259s 773ms/step - loss: 0.2657 - accuracy: 0.9252 - val_loss: 0.2649 - val_accuracy: 0.9257\n",
      "Epoch 19/20\n",
      "335/335 [==============================] - 255s 763ms/step - loss: 0.2636 - accuracy: 0.9253 - val_loss: 0.2663 - val_accuracy: 0.9257\n",
      "Epoch 20/20\n",
      "335/335 [==============================] - 242s 723ms/step - loss: 0.2645 - accuracy: 0.9253 - val_loss: 0.2657 - val_accuracy: 0.9257\n"
     ]
    }
   ],
   "source": [
    "train_image_datagen = ImageDataGenerator(\n",
    "    rotation_range=40,\n",
    "    width_shift_range=0.2,\n",
    "    height_shift_range=0.2,\n",
    "    rescale=1./255,\n",
    "    shear_range=0.2,\n",
    "    zoom_range=0.2,\n",
    "    horizontal_flip=True,\n",
    "    fill_mode='nearest',    # constant, nearest, reflect, wrap\n",
    "    validation_split=0.25)\n",
    "\n",
    "training_generator = train_image_datagen.flow_from_directory(\n",
    "    training_dir,\n",
    "    target_size=(image_height, image_width), # Images resized to this.\n",
    "    color_mode='rgb',\n",
    "    batch_size = batch_size,\n",
    "    class_mode='binary',\n",
    "    subset='training')\n",
    "    \n",
    "validation_generator = train_image_datagen.flow_from_directory(\n",
    "    training_dir,\n",
    "    target_size=(image_height, image_width),\n",
    "    batch_size=batch_size,\n",
    "    class_mode='binary',\n",
    "    subset='validation')\n",
    "    \n",
    "history = model.fit_generator(\n",
    "    training_generator,\n",
    "    steps_per_epoch = training_generator.samples // batch_size,\n",
    "    validation_data = validation_generator,\n",
    "    validation_steps = validation_generator.samples // batch_size,\n",
    "    epochs=num_epochs)"
   ]
  },
  {
   "cell_type": "markdown",
   "metadata": {},
   "source": [
    "## Summary & Analysis"
   ]
  },
  {
   "cell_type": "code",
   "execution_count": 20,
   "metadata": {},
   "outputs": [
    {
     "data": {
      "text/plain": [
       "{'duds': 0, 'keepers': 1}"
      ]
     },
     "execution_count": 20,
     "metadata": {},
     "output_type": "execute_result"
    }
   ],
   "source": [
    "training_generator.class_indices"
   ]
  },
  {
   "cell_type": "code",
   "execution_count": 8,
   "metadata": {},
   "outputs": [
    {
     "name": "stdout",
     "output_type": "stream",
     "text": [
      "Model: \"sequential\"\n",
      "_________________________________________________________________\n",
      "Layer (type)                 Output Shape              Param #   \n",
      "=================================================================\n",
      "conv2d (Conv2D)              (None, 256, 256, 32)      2432      \n",
      "_________________________________________________________________\n",
      "max_pooling2d (MaxPooling2D) (None, 128, 128, 32)      0         \n",
      "_________________________________________________________________\n",
      "conv2d_1 (Conv2D)            (None, 124, 124, 64)      51264     \n",
      "_________________________________________________________________\n",
      "max_pooling2d_1 (MaxPooling2 (None, 62, 62, 64)        0         \n",
      "_________________________________________________________________\n",
      "flatten (Flatten)            (None, 246016)            0         \n",
      "_________________________________________________________________\n",
      "dense (Dense)                (None, 64)                15745088  \n",
      "_________________________________________________________________\n",
      "dropout (Dropout)            (None, 64)                0         \n",
      "_________________________________________________________________\n",
      "dense_1 (Dense)              (None, 32)                2080      \n",
      "_________________________________________________________________\n",
      "dropout_1 (Dropout)          (None, 32)                0         \n",
      "_________________________________________________________________\n",
      "dense_2 (Dense)              (None, 1)                 33        \n",
      "=================================================================\n",
      "Total params: 15,800,897\n",
      "Trainable params: 15,800,897\n",
      "Non-trainable params: 0\n",
      "_________________________________________________________________\n"
     ]
    }
   ],
   "source": [
    "model.summary()"
   ]
  },
  {
   "cell_type": "code",
   "execution_count": 9,
   "metadata": {},
   "outputs": [
    {
     "data": {
      "image/png": "[encoded data removed]",
      "text/plain": [
       "<Figure size 432x288 with 1 Axes>"
      ]
     },
     "metadata": {
      "needs_background": "light"
     },
     "output_type": "display_data"
    }
   ],
   "source": [
    "# Generates line plot for loss.\n",
    "plt.plot(history.history['loss'], label='Train Loss')\n",
    "plt.plot(history.history['val_loss'], label='Val Loss')\n",
    "plt.legend();"
   ]
  },
  {
   "cell_type": "code",
   "execution_count": 10,
   "metadata": {},
   "outputs": [
    {
     "data": {
      "image/png": "[encoded data removed]",
      "text/plain": [
       "<Figure size 432x288 with 1 Axes>"
      ]
     },
     "metadata": {
      "needs_background": "light"
     },
     "output_type": "display_data"
    }
   ],
   "source": [
    "# Generates line plot for accuracy.\n",
    "plt.plot(history.history['accuracy'], label='Train Accuracy')\n",
    "plt.plot(history.history['val_accuracy'], label='Val Accuracy')\n",
    "plt.legend();"
   ]
  }
 ],
 "metadata": {
  "kernelspec": {
   "display_name": "Python 3",
   "language": "python",
   "name": "python3"
  },
  "language_info": {
   "codemirror_mode": {
    "name": "ipython",
    "version": 3
   },
   "file_extension": ".py",
   "mimetype": "text/x-python",
   "name": "python",
   "nbconvert_exporter": "python",
   "pygments_lexer": "ipython3",
   "version": "3.7.6"
  }
 },
 "nbformat": 4,
 "nbformat_minor": 4
}
