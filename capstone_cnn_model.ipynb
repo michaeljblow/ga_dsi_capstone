{
 "cells": [
  {
   "cell_type": "markdown",
   "metadata": {},
   "source": [
    "## Libraries and Imports"
   ]
  },
  {
   "cell_type": "code",
   "execution_count": 1,
   "metadata": {},
   "outputs": [],
   "source": [
    "# Import Libraries\n",
    "import numpy as np\n",
    "import matplotlib.pyplot as plt\n",
    "import pandas as pd\n",
    "import os\n",
    "\n",
    "# For reproducibility\n",
    "np.random.seed(42)\n",
    "\n",
    "from sklearn.model_selection import train_test_split\n",
    "\n",
    "from tensorflow.keras.models import Sequential\n",
    "from tensorflow.keras.layers import Dense, Dropout, Flatten, Conv2D, MaxPooling2D\n",
    "from tensorflow.keras.optimizers import Adam\n",
    "from tensorflow.keras import utils\n",
    "from tensorflow.keras.preprocessing.image import ImageDataGenerator, load_img, img_to_array\n",
    "\n",
    "%matplotlib inline"
   ]
  },
  {
   "cell_type": "code",
   "execution_count": 2,
   "metadata": {},
   "outputs": [],
   "source": [
    "def create_sample_dir_of_images(directory, num_samples):\n",
    "    import os\n",
    "    import shutil\n",
    "    files = os.listdir(directory)\n",
    "    index = np.linspace(0, len(train_files)-1, num_samples, dtype='int')\n",
    "    os.chdir(directory)\n",
    "    os.mkdir('sample_of_files')\n",
    "    subdirectory = training_dir + 'sample_of_files'\n",
    "    for i in index:\n",
    "        shutil.copy(training_dir+files[i], subdirectory, follow_symlinks=False)"
   ]
  },
  {
   "cell_type": "markdown",
   "metadata": {},
   "source": [
    "## Parameters"
   ]
  },
  {
   "cell_type": "code",
   "execution_count": 3,
   "metadata": {},
   "outputs": [],
   "source": [
    "training_dir = './images/new_model'\n",
    "validate_dir = 'D:/Google Drive/capstone_images/keepers/'\n",
    "image_height = 256\n",
    "image_width  = 256\n",
    "batch_size   = 64\n",
    "num_epochs   = 50"
   ]
  },
  {
   "cell_type": "markdown",
   "metadata": {},
   "source": [
    "## Model Construction"
   ]
  },
  {
   "cell_type": "code",
   "execution_count": 4,
   "metadata": {},
   "outputs": [],
   "source": [
    "# Instantiates model\n",
    "model = Sequential()\n",
    "\n",
    "# First convolutional layer\n",
    "model.add(Conv2D(32,\n",
    "                 kernel_size=(3, 3),\n",
    "                 strides=(1, 1),\n",
    "                 padding='same',\n",
    "                 activation='relu',       \n",
    "                 input_shape=(image_height, image_width, 3))) \n",
    "\n",
    "          \n",
    "# pooling layer, no striding\n",
    "model.add(MaxPooling2D(pool_size=(2, 2)))\n",
    "\n",
    "# Second convolutional layer\n",
    "model.add(Conv2D(64,\n",
    "                 kernel_size=(3, 3),\n",
    "                 padding='same',\n",
    "                 activation='relu'))\n",
    "\n",
    "# pooling layer, no striding\n",
    "model.add(MaxPooling2D(pool_size=(2, 2)))\n",
    "\n",
    "# convolutional layer\n",
    "model.add(Conv2D(128,\n",
    "                 kernel_size=(3, 3),\n",
    "                 padding='same',\n",
    "                 activation='relu'))\n",
    "\n",
    "# pooling layer, no striding\n",
    "model.add(MaxPooling2D(pool_size=(2, 2)))\n",
    "\n",
    "# Flattening layer\n",
    "model.add(Flatten())\n",
    "\n",
    "# Fully connected & dropout layers\n",
    "model.add(Dense(1024, activation='relu'))\n",
    "model.add(Dropout(0.5))\n",
    "model.add(Dense(512, activation='relu'))\n",
    "model.add(Dropout(0.5))\n",
    "model.add(Dense(256, activation='relu'))\n",
    "model.add(Dropout(0.5))\n",
    "model.add(Dense(128, activation='relu'))\n",
    "model.add(Dropout(0.5))\n",
    "model.add(Dense(64, activation='relu'))\n",
    "model.add(Dropout(0.5))\n",
    "\n",
    "# Output layer\n",
    "model.add(Dense(1, activation='sigmoid'))\n",
    "\n",
    "# Compiles model\n",
    "model.compile(loss='binary_crossentropy',\n",
    "              optimizer=Adam(learning_rate=0.001),\n",
    "              metrics=['accuracy'])"
   ]
  },
  {
   "cell_type": "markdown",
   "metadata": {},
   "source": [
    "## Model Fitting"
   ]
  },
  {
   "cell_type": "code",
   "execution_count": 5,
   "metadata": {},
   "outputs": [
    {
     "name": "stdout",
     "output_type": "stream",
     "text": [
      "Found 3963 images belonging to 2 classes.\n",
      "Found 989 images belonging to 2 classes.\n",
      "WARNING:tensorflow:sample_weight modes were coerced from\n",
      "  ...\n",
      "    to  \n",
      "  ['...']\n",
      "WARNING:tensorflow:sample_weight modes were coerced from\n",
      "  ...\n",
      "    to  \n",
      "  ['...']\n",
      "Train for 61 steps, validate for 15 steps\n",
      "Epoch 1/50\n",
      "61/61 [==============================] - 94s 2s/step - loss: 0.8405 - accuracy: 0.5481 - val_loss: 0.5826 - val_accuracy: 0.7896\n",
      "Epoch 2/50\n",
      "61/61 [==============================] - 82s 1s/step - loss: 0.4717 - accuracy: 0.7989 - val_loss: 0.4338 - val_accuracy: 0.8406\n",
      "Epoch 3/50\n",
      "61/61 [==============================] - 82s 1s/step - loss: 0.3090 - accuracy: 0.8920 - val_loss: 0.3806 - val_accuracy: 0.8479\n",
      "Epoch 4/50\n",
      "61/61 [==============================] - 82s 1s/step - loss: 0.2586 - accuracy: 0.9169 - val_loss: 0.3540 - val_accuracy: 0.8750\n",
      "Epoch 5/50\n",
      "61/61 [==============================] - 82s 1s/step - loss: 0.2584 - accuracy: 0.9172 - val_loss: 0.4282 - val_accuracy: 0.8406\n",
      "Epoch 6/50\n",
      "61/61 [==============================] - 81s 1s/step - loss: 0.2239 - accuracy: 0.9269 - val_loss: 0.3307 - val_accuracy: 0.8771\n",
      "Epoch 7/50\n",
      "61/61 [==============================] - 75s 1s/step - loss: 0.2259 - accuracy: 0.9223 - val_loss: 0.4306 - val_accuracy: 0.8333\n",
      "Epoch 8/50\n",
      "61/61 [==============================] - 76s 1s/step - loss: 0.1988 - accuracy: 0.9384 - val_loss: 0.3562 - val_accuracy: 0.8406\n",
      "Epoch 9/50\n",
      "61/61 [==============================] - 76s 1s/step - loss: 0.2035 - accuracy: 0.9356 - val_loss: 0.3321 - val_accuracy: 0.8469\n",
      "Epoch 10/50\n",
      "61/61 [==============================] - 78s 1s/step - loss: 0.2162 - accuracy: 0.9318 - val_loss: 0.3120 - val_accuracy: 0.8698\n",
      "Epoch 11/50\n",
      "61/61 [==============================] - 82s 1s/step - loss: 0.1995 - accuracy: 0.9367 - val_loss: 0.3330 - val_accuracy: 0.8531\n",
      "Epoch 12/50\n",
      "61/61 [==============================] - 82s 1s/step - loss: 0.1859 - accuracy: 0.9387 - val_loss: 0.3814 - val_accuracy: 0.8583\n",
      "Epoch 13/50\n",
      "61/61 [==============================] - 79s 1s/step - loss: 0.1772 - accuracy: 0.9484 - val_loss: 0.3145 - val_accuracy: 0.8698\n",
      "Epoch 14/50\n",
      "61/61 [==============================] - 79s 1s/step - loss: 0.1914 - accuracy: 0.9415 - val_loss: 0.3335 - val_accuracy: 0.8490\n",
      "Epoch 15/50\n",
      "61/61 [==============================] - 84s 1s/step - loss: 0.1783 - accuracy: 0.9459 - val_loss: 0.3846 - val_accuracy: 0.8448\n",
      "Epoch 16/50\n",
      "61/61 [==============================] - 82s 1s/step - loss: 0.1731 - accuracy: 0.9508 - val_loss: 0.3771 - val_accuracy: 0.8458\n",
      "Epoch 17/50\n",
      "61/61 [==============================] - 82s 1s/step - loss: 0.2599 - accuracy: 0.9133 - val_loss: 0.4076 - val_accuracy: 0.8260\n",
      "Epoch 18/50\n",
      "61/61 [==============================] - 84s 1s/step - loss: 0.2074 - accuracy: 0.9336 - val_loss: 0.3548 - val_accuracy: 0.8531\n",
      "Epoch 19/50\n",
      "61/61 [==============================] - 87s 1s/step - loss: 0.1716 - accuracy: 0.9467 - val_loss: 0.3450 - val_accuracy: 0.8583\n",
      "Epoch 20/50\n",
      "61/61 [==============================] - 79s 1s/step - loss: 0.1782 - accuracy: 0.9449 - val_loss: 0.3362 - val_accuracy: 0.8542\n",
      "Epoch 21/50\n",
      "61/61 [==============================] - 83s 1s/step - loss: 0.1687 - accuracy: 0.9472 - val_loss: 0.3235 - val_accuracy: 0.8698\n",
      "Epoch 22/50\n",
      "61/61 [==============================] - 83s 1s/step - loss: 0.1680 - accuracy: 0.9502 - val_loss: 0.3215 - val_accuracy: 0.8698\n",
      "Epoch 23/50\n",
      "61/61 [==============================] - 80s 1s/step - loss: 0.1657 - accuracy: 0.9484 - val_loss: 0.2862 - val_accuracy: 0.8823\n",
      "Epoch 24/50\n",
      "61/61 [==============================] - 86s 1s/step - loss: 0.1613 - accuracy: 0.9495 - val_loss: 0.2962 - val_accuracy: 0.8781\n",
      "Epoch 25/50\n",
      "61/61 [==============================] - 95s 2s/step - loss: 0.1553 - accuracy: 0.9490 - val_loss: 0.2588 - val_accuracy: 0.8917\n",
      "Epoch 26/50\n",
      "61/61 [==============================] - 88s 1s/step - loss: 0.1557 - accuracy: 0.9531 - val_loss: 0.3130 - val_accuracy: 0.8792\n",
      "Epoch 27/50\n",
      "61/61 [==============================] - 85s 1s/step - loss: 0.1458 - accuracy: 0.9538 - val_loss: 0.3127 - val_accuracy: 0.8771\n",
      "Epoch 28/50\n",
      "61/61 [==============================] - 90s 1s/step - loss: 0.1361 - accuracy: 0.9554 - val_loss: 0.3306 - val_accuracy: 0.8802\n",
      "Epoch 29/50\n",
      "61/61 [==============================] - 90s 1s/step - loss: 0.1322 - accuracy: 0.9567 - val_loss: 0.3772 - val_accuracy: 0.8531\n",
      "Epoch 30/50\n",
      "61/61 [==============================] - 82s 1s/step - loss: 0.1360 - accuracy: 0.9577 - val_loss: 0.2439 - val_accuracy: 0.9073\n",
      "Epoch 31/50\n",
      "61/61 [==============================] - 81s 1s/step - loss: 0.1456 - accuracy: 0.9502 - val_loss: 0.2876 - val_accuracy: 0.8969\n",
      "Epoch 32/50\n",
      "61/61 [==============================] - 80s 1s/step - loss: 0.1319 - accuracy: 0.9618 - val_loss: 0.3572 - val_accuracy: 0.8719\n",
      "Epoch 33/50\n",
      "61/61 [==============================] - 83s 1s/step - loss: 0.1512 - accuracy: 0.9531 - val_loss: 0.3235 - val_accuracy: 0.8792\n",
      "Epoch 34/50\n",
      "61/61 [==============================] - 83s 1s/step - loss: 0.1341 - accuracy: 0.9561 - val_loss: 0.2700 - val_accuracy: 0.8833\n",
      "Epoch 35/50\n",
      "61/61 [==============================] - 82s 1s/step - loss: 0.1369 - accuracy: 0.9541 - val_loss: 0.2751 - val_accuracy: 0.8906\n",
      "Epoch 36/50\n",
      "61/61 [==============================] - 82s 1s/step - loss: 0.1232 - accuracy: 0.9600 - val_loss: 0.3137 - val_accuracy: 0.8823\n",
      "Epoch 37/50\n",
      "61/61 [==============================] - 91s 1s/step - loss: 0.1275 - accuracy: 0.9572 - val_loss: 0.3140 - val_accuracy: 0.8760\n",
      "Epoch 38/50\n",
      "61/61 [==============================] - 95s 2s/step - loss: 0.1407 - accuracy: 0.9579 - val_loss: 0.2754 - val_accuracy: 0.8906\n",
      "Epoch 39/50\n",
      "61/61 [==============================] - 93s 2s/step - loss: 0.1274 - accuracy: 0.9590 - val_loss: 0.2250 - val_accuracy: 0.9104\n",
      "Epoch 40/50\n",
      "61/61 [==============================] - 88s 1s/step - loss: 0.1309 - accuracy: 0.9579 - val_loss: 0.2680 - val_accuracy: 0.8917\n",
      "Epoch 41/50\n",
      "61/61 [==============================] - 89s 1s/step - loss: 0.1452 - accuracy: 0.9543 - val_loss: 0.3028 - val_accuracy: 0.8781\n",
      "Epoch 42/50\n",
      "61/61 [==============================] - 89s 1s/step - loss: 0.1242 - accuracy: 0.9587 - val_loss: 0.2457 - val_accuracy: 0.8990\n",
      "Epoch 43/50\n",
      "61/61 [==============================] - 88s 1s/step - loss: 0.1257 - accuracy: 0.9608 - val_loss: 0.2577 - val_accuracy: 0.9042\n",
      "Epoch 44/50\n",
      "61/61 [==============================] - 86s 1s/step - loss: 0.1186 - accuracy: 0.9610 - val_loss: 0.2516 - val_accuracy: 0.8969\n",
      "Epoch 45/50\n",
      "61/61 [==============================] - 87s 1s/step - loss: 0.1210 - accuracy: 0.9620 - val_loss: 0.2553 - val_accuracy: 0.9062\n",
      "Epoch 46/50\n",
      "61/61 [==============================] - 93s 2s/step - loss: 0.1245 - accuracy: 0.9574 - val_loss: 0.2977 - val_accuracy: 0.8833\n",
      "Epoch 47/50\n",
      "61/61 [==============================] - 101s 2s/step - loss: 0.1283 - accuracy: 0.9556 - val_loss: 0.2621 - val_accuracy: 0.8865\n",
      "Epoch 48/50\n",
      "61/61 [==============================] - 101s 2s/step - loss: 0.1316 - accuracy: 0.9577 - val_loss: 0.2747 - val_accuracy: 0.8833\n",
      "Epoch 49/50\n",
      "61/61 [==============================] - 97s 2s/step - loss: 0.1448 - accuracy: 0.9502 - val_loss: 0.3021 - val_accuracy: 0.8885\n",
      "Epoch 50/50\n",
      "61/61 [==============================] - 96s 2s/step - loss: 0.1204 - accuracy: 0.9602 - val_loss: 0.2586 - val_accuracy: 0.8948\n"
     ]
    }
   ],
   "source": [
    "train_image_datagen = ImageDataGenerator(\n",
    "    rotation_range=40,\n",
    "    width_shift_range=0.2,\n",
    "    height_shift_range=0.2,\n",
    "    rescale=1./255,\n",
    "    shear_range=0.2,\n",
    "    zoom_range=0.2,\n",
    "    horizontal_flip=True,\n",
    "    fill_mode='nearest',    # constant, nearest, reflect, wrap\n",
    "    validation_split=0.2)\n",
    "\n",
    "training_generator = train_image_datagen.flow_from_directory(\n",
    "    training_dir,\n",
    "    target_size=(image_height, image_width), # Images resized to this.\n",
    "    color_mode='rgb',\n",
    "    batch_size = batch_size,\n",
    "    class_mode='binary',\n",
    "    subset='training')\n",
    "    \n",
    "validation_generator = train_image_datagen.flow_from_directory(\n",
    "    training_dir,\n",
    "    target_size=(image_height, image_width),\n",
    "    batch_size = batch_size,\n",
    "    class_mode='binary',\n",
    "    subset='validation')\n",
    "    \n",
    "history = model.fit(\n",
    "    training_generator,\n",
    "    steps_per_epoch = training_generator.samples // batch_size,\n",
    "    validation_data = validation_generator,\n",
    "    validation_steps = validation_generator.samples // batch_size,\n",
    "    epochs=num_epochs)"
   ]
  },
  {
   "cell_type": "markdown",
   "metadata": {},
   "source": [
    "## Summary & Analysis"
   ]
  },
  {
   "cell_type": "code",
   "execution_count": 6,
   "metadata": {},
   "outputs": [
    {
     "data": {
      "text/plain": [
       "{'0_people': 0, '1_landscapes': 1}"
      ]
     },
     "execution_count": 6,
     "metadata": {},
     "output_type": "execute_result"
    }
   ],
   "source": [
    "training_generator.class_indices"
   ]
  },
  {
   "cell_type": "code",
   "execution_count": 7,
   "metadata": {},
   "outputs": [
    {
     "name": "stdout",
     "output_type": "stream",
     "text": [
      "Model: \"sequential\"\n",
      "_________________________________________________________________\n",
      "Layer (type)                 Output Shape              Param #   \n",
      "=================================================================\n",
      "conv2d (Conv2D)              (None, 256, 256, 32)      896       \n",
      "_________________________________________________________________\n",
      "max_pooling2d (MaxPooling2D) (None, 128, 128, 32)      0         \n",
      "_________________________________________________________________\n",
      "conv2d_1 (Conv2D)            (None, 128, 128, 64)      18496     \n",
      "_________________________________________________________________\n",
      "max_pooling2d_1 (MaxPooling2 (None, 64, 64, 64)        0         \n",
      "_________________________________________________________________\n",
      "conv2d_2 (Conv2D)            (None, 64, 64, 128)       73856     \n",
      "_________________________________________________________________\n",
      "max_pooling2d_2 (MaxPooling2 (None, 32, 32, 128)       0         \n",
      "_________________________________________________________________\n",
      "flatten (Flatten)            (None, 131072)            0         \n",
      "_________________________________________________________________\n",
      "dense (Dense)                (None, 1024)              134218752 \n",
      "_________________________________________________________________\n",
      "dropout (Dropout)            (None, 1024)              0         \n",
      "_________________________________________________________________\n",
      "dense_1 (Dense)              (None, 512)               524800    \n",
      "_________________________________________________________________\n",
      "dropout_1 (Dropout)          (None, 512)               0         \n",
      "_________________________________________________________________\n",
      "dense_2 (Dense)              (None, 256)               131328    \n",
      "_________________________________________________________________\n",
      "dropout_2 (Dropout)          (None, 256)               0         \n",
      "_________________________________________________________________\n",
      "dense_3 (Dense)              (None, 128)               32896     \n",
      "_________________________________________________________________\n",
      "dropout_3 (Dropout)          (None, 128)               0         \n",
      "_________________________________________________________________\n",
      "dense_4 (Dense)              (None, 64)                8256      \n",
      "_________________________________________________________________\n",
      "dropout_4 (Dropout)          (None, 64)                0         \n",
      "_________________________________________________________________\n",
      "dense_5 (Dense)              (None, 1)                 65        \n",
      "=================================================================\n",
      "Total params: 135,009,345\n",
      "Trainable params: 135,009,345\n",
      "Non-trainable params: 0\n",
      "_________________________________________________________________\n"
     ]
    }
   ],
   "source": [
    "model.summary()"
   ]
  },
  {
   "cell_type": "code",
   "execution_count": 8,
   "metadata": {},
   "outputs": [
    {
     "data": {
      "image/png": "[encoded data removed]",
      "text/plain": [
       "<Figure size 432x288 with 1 Axes>"
      ]
     },
     "metadata": {
      "needs_background": "light"
     },
     "output_type": "display_data"
    }
   ],
   "source": [
    "# Generates line plot for loss.\n",
    "plt.plot(history.history['loss'], label='Train Loss')\n",
    "plt.plot(history.history['val_loss'], label='Val Loss')\n",
    "plt.legend();"
   ]
  },
  {
   "cell_type": "code",
   "execution_count": 9,
   "metadata": {},
   "outputs": [
    {
     "data": {
      "image/png": "[encoded data removed]",
      "text/plain": [
       "<Figure size 432x288 with 1 Axes>"
      ]
     },
     "metadata": {
      "needs_background": "light"
     },
     "output_type": "display_data"
    }
   ],
   "source": [
    "# Generates line plot for accuracy.\n",
    "plt.plot(history.history['accuracy'], label='Train Accuracy')\n",
    "plt.plot(history.history['val_accuracy'], label='Val Accuracy')\n",
    "plt.legend();"
   ]
  }
 ],
 "metadata": {
  "kernelspec": {
   "display_name": "Python 3",
   "language": "python",
   "name": "python3"
  },
  "language_info": {
   "codemirror_mode": {
    "name": "ipython",
    "version": 3
   },
   "file_extension": ".py",
   "mimetype": "text/x-python",
   "name": "python",
   "nbconvert_exporter": "python",
   "pygments_lexer": "ipython3",
   "version": "3.7.6"
  }
 },
 "nbformat": 4,
 "nbformat_minor": 4
}
